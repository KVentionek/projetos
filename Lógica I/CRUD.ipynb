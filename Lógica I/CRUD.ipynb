{
  "nbformat": 4,
  "nbformat_minor": 0,
  "metadata": {
    "colab": {
      "private_outputs": true,
      "provenance": []
    },
    "kernelspec": {
      "name": "python3",
      "display_name": "Python 3"
    },
    "language_info": {
      "name": "python"
    }
  },
  "cells": [
    {
      "cell_type": "markdown",
      "source": [
        "# Parabéns!\n",
        "\n",
        "Você foi contratado para trabalhar no RH de um empresa Multinacional como trainee! Na sua primeira semana, você vai trabalhar no RH.\n",
        "\n",
        "Sua primeira demanda é criar um sistema que cumpra os seguintes requisitos:\n",
        "\n",
        "- Seu sistema deverá armazenar os registros dos funcionários. Os registros são, no mínimo: Nome, sobrenome, profissao e data de nascimento.\n",
        "\n",
        "- Seu sistema deve ser capaz de fazer as operações básicas de um banco de dados: Criar, Ler, atualizar e deletar, ou seja:\n",
        "- Criar: deve ser possível receber novos registros pelo usuario e armazenar no seu sistema\n",
        "- Ler: O usuário deve conseguir encontrar o registro completo, procurando pelo nome ou pela profissao. Sejam apresentados os dados de forma que o nome tenha as primeiras letras maiusculas. O numero deve ser apresentado no formato \"(dd)1234-5678\". E apresentar de forma mais visual possivel.\n",
        "- atualizar: O usuario deve conseguir atualizar o registro, buscando pelo numero de telefone\n",
        "- deletar: O usuario deve conseguir deletar o registro buscando pelo numero do telefone\n",
        "\n",
        "- Cada operação deverá ser chamada por uma função própria\n",
        "- Deverá ser possível chamar uma unica função chamada `menu()` que vai permitir ao usuario a chamar as diferentes operações"
      ],
      "metadata": {
        "id": "rgFgxp1m7rkv"
      }
    },
    {
      "cell_type": "code",
      "source": [
        "from datetime import datetime\n",
        "from datetime import date"
      ],
      "metadata": {
        "id": "xnU96_0jHIuD"
      },
      "execution_count": null,
      "outputs": []
    },
    {
      "cell_type": "code",
      "source": [
        "def recebe_cep_retorna_endereco(cep:str) -> list:\n",
        "  import requests\n",
        "  cep = cep.replace(\"-\", \"\").replace(\".\", \"\").replace(\" \", \"\")\n",
        "  if len(cep) == 8:\n",
        "      link = f'https://viacep.com.br/ws/{cep}/json/'\n",
        "      requisicao = requests.get(link)\n",
        "      dic_requisicao = requisicao.json()\n",
        "      uf = dic_requisicao['uf']\n",
        "      cidade = dic_requisicao['localidade']\n",
        "      bairro = dic_requisicao['bairro']\n",
        "      logradouro = dic_requisicao['logradouro']\n",
        "      return([uf, cidade, bairro, logradouro])\n",
        "  else:\n",
        "      raise Exception('CEP Inválido')"
      ],
      "metadata": {
        "id": "ItlBckEIBaGf"
      },
      "execution_count": null,
      "outputs": []
    },
    {
      "cell_type": "code",
      "source": [
        "def nascimento(data):\n",
        "  while len(data) != 10 :\n",
        "    data=input('Data inválida! \\nDigite novamente a data no formato dd/mm/yyy: ')\n",
        "  dataf = (f'{data[0:2]}/{data[3:5]}/{data[6:10]}')\n",
        "  return dataf"
      ],
      "metadata": {
        "id": "THiW6t4cGEuH"
      },
      "execution_count": null,
      "outputs": []
    },
    {
      "cell_type": "code",
      "source": [
        "\n",
        "def dias_para_aniversario(nascimento):\n",
        "    hoje = date.today()\n",
        "    aniversario_este_ano = date(hoje.year, nascimento.month, nascimento.day)\n",
        "\n",
        "    if aniversario_este_ano < hoje:\n",
        "        aniversario_proximo_ano = date(hoje.year + 1, nascimento.month, nascimento.day)\n",
        "        dias_faltantes = aniversario_proximo_ano - hoje\n",
        "    else:\n",
        "        dias_faltantes = aniversario_este_ano - hoje\n",
        "\n",
        "    print(f\"\\nFaltam {dias_faltantes.days} dias para o aniversário.\")"
      ],
      "metadata": {
        "id": "4bvLnJiJBMhG"
      },
      "execution_count": null,
      "outputs": []
    },
    {
      "cell_type": "code",
      "source": [
        "cadastro = []"
      ],
      "metadata": {
        "id": "ta1k5TdhiJZj"
      },
      "execution_count": null,
      "outputs": []
    },
    {
      "cell_type": "code",
      "source": [
        "def criar():\n",
        "  registro = []\n",
        "  nome = input('Informe seu nome completo: ').title()\n",
        "  profissao = input('Informe sua profissão: ').capitalize()\n",
        "\n",
        "  registro.append(nome)\n",
        "\n",
        "  registro.append(profissao)\n",
        "\n",
        "  data_nascimento = input('Informe a data de nascimento (dd/mm/yyyy): ')\n",
        "  registro.append(nascimento(data_nascimento))\n",
        "\n",
        "  telefone = input('Informe seu telefone para contato com DDD (apenas números): ')\n",
        "\n",
        "  registro.append(tell(telefone))\n",
        "\n",
        "  endereco = input('Informe seu cep (apenas números):')\n",
        "  registro.append(recebe_cep_retorna_endereco(endereco))\n",
        "\n",
        "\n",
        "  cadastro.append(registro)\n",
        "  print('\\nCadastro realizado com sucesso!')"
      ],
      "metadata": {
        "id": "DZwuBAuuR1eP"
      },
      "execution_count": null,
      "outputs": []
    },
    {
      "cell_type": "code",
      "source": [
        "def ler(elemento):\n",
        "  for i in range (len(cadastro)):\n",
        "    if elemento in cadastro[i][0] or elemento in cadastro[i][1]:\n",
        "\n",
        "      print (f'\\nNome: {cadastro[i][0]} \\nProfissão: {cadastro[i][1]} \\nData de nascimento: {cadastro[i][2]} \\nTelefone: {cadastro[i][3]} \\n\\nEndereço: \\nLugadouro: {cadastro[i][4][3] } \\nBairro: {cadastro[i][4][2]} \\nCidade: {cadastro[i][4][1]} \\nEstado: {cadastro[i][4][0]}')\n",
        "      nasceu = datetime.strptime(cadastro[i][2], '%d/%m/%Y').date()\n",
        "      dias_para_aniversario(nasceu)\n",
        "    else:\n",
        "      print('Registro não encontrado!')"
      ],
      "metadata": {
        "id": "nBb0AKKvS2zl"
      },
      "execution_count": null,
      "outputs": []
    },
    {
      "cell_type": "code",
      "source": [
        "def atualizar(elemento) :\n",
        "  for i in range (len(cadastro)):\n",
        "    if elemento in cadastro[i][3]:\n",
        "      print(f'\\nAtualizando cadastro de {cadastro[i][0]}.')\n",
        "      while True:\n",
        "        print('-'*15)\n",
        "        print('[1] Nome \\n[2] Profissão \\n[3] Data de nascimento \\n[4] Telefone \\n[5] Endereço \\n[6] Sair')\n",
        "        print('-'*15)\n",
        "        dado = input('Selecione o número correspondente ao dado que desejada atualizar: ')\n",
        "\n",
        "        if dado == '1':\n",
        "          cadastro[i][0] = input('Informe o novo nome: ').title()\n",
        "          print('\\nDado atualizado com sucesso! \\nDeseja continuar?')\n",
        "          continue\n",
        "\n",
        "        elif dado == '2':\n",
        "          cadastro[i][1] = input('Informe a nova profissão: ').capitalize()\n",
        "          print('\\nDado atualizado com sucesso! \\nDeseja continuar?')\n",
        "          continue\n",
        "\n",
        "        elif dado == \"3\":\n",
        "          data_nascimento = input('Informe a data de nascimento (dd/mm/yyyy): ')\n",
        "          cadastro[i][2] =  nascimento(data_nascimento)\n",
        "          print('\\nDado atualizado com sucesso! \\nDeseja continuar?')\n",
        "          continue\n",
        "\n",
        "        elif dado == '4':\n",
        "          telefone = input('infrme o novo número de telefone: ')\n",
        "          cadastro[i][3] = tell(telefone)\n",
        "          print('\\nDado atualizado com sucesso! \\nDeseja continuar?')\n",
        "          continue\n",
        "\n",
        "        elif dado == \"5\":\n",
        "          endereco = input('infrme o novo cep (apenas números): ')\n",
        "          cadastro[i][4] = recebe_cep_retorna_endereco(endereco)\n",
        "          print('\\nDado atualizado com sucesso! \\nDeseja continuar?')\n",
        "\n",
        "        elif dado == \"6\":\n",
        "          break\n",
        "\n",
        "        else:\n",
        "          print('Opção inválida!')\n",
        "          continue\n",
        "    else:\n",
        "      print('Registro não encontrado!')\n"
      ],
      "metadata": {
        "id": "FVgyybvI2lBD"
      },
      "execution_count": null,
      "outputs": []
    },
    {
      "cell_type": "code",
      "source": [
        "def deletar(elemento):\n",
        "  for i in range (len(cadastro)):\n",
        "    if elemento in cadastro[i][3]:\n",
        "      print(cadastro[i])\n",
        "      cadastro.pop(i)\n",
        "      print('\\nRegistro removido com sucesso!')\n",
        "      break\n",
        "    else:\n",
        "      print('Registro não encontrado!')"
      ],
      "metadata": {
        "id": "gS8N30yFe_VC"
      },
      "execution_count": null,
      "outputs": []
    },
    {
      "cell_type": "code",
      "source": [
        "def tell(celular):\n",
        "\n",
        "  celular = celular.replace(\"(\", \"\").replace(\")\", \"\").replace(\"-\", \"\").replace(\" \", \"\")\n",
        "  while True:\n",
        "\n",
        "    celular = celular.replace(\"(\", \"\").replace(\")\", \"\").replace(\"-\", \"\").replace(\" \", \"\")\n",
        "    if len(celular)!=11:\n",
        "      celular = input('Número inválido, tente novamente: ').strip()\n",
        "    else:\n",
        "      break\n",
        "\n",
        "  contato = (f'({celular[0:2]}) {celular[2:7]}-{celular[7:]}')\n",
        "  return contato"
      ],
      "metadata": {
        "id": "MLNAzlvfp-He"
      },
      "execution_count": null,
      "outputs": []
    },
    {
      "cell_type": "code",
      "execution_count": null,
      "metadata": {
        "id": "PEgMLGTC7m_-"
      },
      "outputs": [],
      "source": [
        "def menu():\n",
        "  while True:\n",
        "\n",
        "    print('-'*15)\n",
        "    print('[1] Criar \\n[2] Ler \\n[3] Atualizar \\n[4] Deletar \\n[5] Sair')\n",
        "    print('-'*15)\n",
        "\n",
        "    opcao = input('Selecione o número correspondente à opção desejada: \\n')\n",
        "\n",
        "    if opcao == '1':\n",
        "      criar()\n",
        "\n",
        "    elif opcao ==\"2\":\n",
        "      dado = input('Informe o nome ou profissão do dado que deseja encontrar: ').title()\n",
        "      ler(dado)\n",
        "\n",
        "    elif opcao == '3':\n",
        "      att = input('infrme o telefone de quem quer atualizar (apenas números): ')\n",
        "      atualizar(tell(att))\n",
        "\n",
        "    elif opcao == \"4\":\n",
        "      remover = input('infrme o telefone de quem quer deletar (apenas números): ')\n",
        "      deletar(tell(remover))\n",
        "\n",
        "    elif opcao == \"5\":\n",
        "      print('Programa finalizado!')\n",
        "      break\n",
        "\n",
        "    else:\n",
        "      print('Opção inválida!')"
      ]
    },
    {
      "cell_type": "code",
      "source": [
        "menu()"
      ],
      "metadata": {
        "id": "drn_a3WPBLC1"
      },
      "execution_count": null,
      "outputs": []
    }
  ]
}